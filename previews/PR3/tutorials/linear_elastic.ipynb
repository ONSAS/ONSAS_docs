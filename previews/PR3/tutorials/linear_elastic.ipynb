{
 "cells": [
  {
   "cell_type": "markdown",
   "source": [
    "# Linear Elastic Solid\n",
    "\n",
    "In this tutorial we consider a linear elastic solid submitted to uniaxial loading.\n",
    "The geometry given by $L_x$, $L_y$ and $L_z$, and a tension $p$ is applied on\n",
    "the face at $x=L_x$, see the diagram below."
   ],
   "metadata": {}
  },
  {
   "cell_type": "markdown",
   "source": [
    "We begin by defining the structural properties of the mesh."
   ],
   "metadata": {}
  }
 ],
 "nbformat_minor": 3,
 "metadata": {
  "language_info": {
   "file_extension": ".jl",
   "mimetype": "application/julia",
   "name": "julia",
   "version": "1.5.0"
  },
  "kernelspec": {
   "name": "julia-1.5",
   "display_name": "Julia 1.5.0",
   "language": "julia"
  }
 },
 "nbformat": 4
}
