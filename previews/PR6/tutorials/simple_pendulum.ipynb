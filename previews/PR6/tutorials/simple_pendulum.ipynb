{
 "cells": [
  {
   "cell_type": "markdown",
   "source": [
    "# Simple pendulum"
   ],
   "metadata": {}
  },
  {
   "cell_type": "markdown",
   "source": [
    "## Model"
   ],
   "metadata": {}
  },
  {
   "cell_type": "markdown",
   "source": [
    "In this tutorial we study a simple pendulum. The model\n",
    "has one truss element. This model is taken from [^BATHE]."
   ],
   "metadata": {}
  },
  {
   "cell_type": "markdown",
   "source": [
    "|Parameter | Value|\n",
    "|-------|----|\n",
    "|Es | 10e11 |\n",
    "| nu | 0 |\n",
    "| A   | 0.1 |\n",
    "| l0  | 3.0443 |\n",
    "| m   | 10     |\n",
    "| g   | 9.81   |"
   ],
   "metadata": {}
  },
  {
   "cell_type": "markdown",
   "source": [
    "## Result"
   ],
   "metadata": {}
  },
  {
   "cell_type": "markdown",
   "source": [
    "## References"
   ],
   "metadata": {}
  },
  {
   "cell_type": "markdown",
   "source": [
    "[^BATHE]: Bathe, Klaus-Jürgen. Finite element procedures. Klaus-Jurgen Bathe, 2006."
   ],
   "metadata": {}
  }
 ],
 "nbformat_minor": 3,
 "metadata": {
  "language_info": {
   "file_extension": ".jl",
   "mimetype": "application/julia",
   "name": "julia",
   "version": "1.5.1"
  },
  "kernelspec": {
   "name": "julia-1.5",
   "display_name": "Julia 1.5.1",
   "language": "julia"
  }
 },
 "nbformat": 4
}
